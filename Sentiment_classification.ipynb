{
 "cells": [
  {
   "cell_type": "markdown",
   "id": "f979dd0d",
   "metadata": {},
   "source": [
    "## Sentiment classification of online reviews"
   ]
  },
  {
   "cell_type": "markdown",
   "id": "64956df0",
   "metadata": {},
   "source": [
    "> In this project, we are given text classification data of some reviews from the internet and we need to predict the sentiment of that review. But the only problem is we shouldn't use y_train directly. Instead we need to use semi supervised learning and use only some of y_train data and try to train the model on that and predict on X_test."
   ]
  },
  {
   "cell_type": "markdown",
   "id": "837d73bf",
   "metadata": {},
   "source": [
    "> Semi-supervised learning is a kind of classification that combines labeled with unlabeled data. The main reason for semi-supervised learning is the lack of labeled data, once the labeling process is expensive and time-consuming. On the other hand, there is a lot of unlabeled data available, but not much to do with them."
   ]
  },
  {
   "cell_type": "markdown",
   "id": "7accc35a",
   "metadata": {},
   "source": [
    "### Before we get into the code, here's the outline of this notebook.\n",
    "\n",
    "- Loading data & preprocessing\n",
    "- Data splitting\n",
    "- Model training\n",
    "- Model evaluation\n"
   ]
  },
  {
   "cell_type": "code",
   "execution_count": 1,
   "id": "b4fa4748",
   "metadata": {},
   "outputs": [
    {
     "name": "stderr",
     "output_type": "stream",
     "text": [
      "[nltk_data] Downloading package stopwords to\n",
      "[nltk_data]     C:\\Users\\DELL\\AppData\\Roaming\\nltk_data...\n",
      "[nltk_data]   Package stopwords is already up-to-date!\n",
      "[nltk_data] Downloading package wordnet to\n",
      "[nltk_data]     C:\\Users\\DELL\\AppData\\Roaming\\nltk_data...\n",
      "[nltk_data]   Package wordnet is already up-to-date!\n"
     ]
    },
    {
     "data": {
      "text/plain": [
       "True"
      ]
     },
     "execution_count": 1,
     "metadata": {},
     "output_type": "execute_result"
    }
   ],
   "source": [
    "# Importing all the libraries\n",
    "\n",
    "import warnings\n",
    "warnings.filterwarnings('ignore')\n",
    "import numpy as np\n",
    "import pandas as pd\n",
    "import matplotlib.pyplot as plt\n",
    "from sklearn.semi_supervised import SelfTrainingClassifier\n",
    "from sklearn.metrics import accuracy_score, precision_score, recall_score, f1_score, confusion_matrix\n",
    "from sklearn.pipeline import Pipeline\n",
    "from sklearn.feature_extraction.text import TfidfVectorizer\n",
    "from sklearn.decomposition import TruncatedSVD\n",
    "from sklearn.preprocessing import StandardScaler\n",
    "from sklearn.cluster import KMeans\n",
    "from sklearn.semi_supervised import LabelPropagation\n",
    "from sklearn.metrics import accuracy_score\n",
    "from sklearn.model_selection import train_test_split\n",
    "import pickle\n",
    "from sklearn.model_selection import GridSearchCV\n",
    "from sklearn.base import BaseEstimator, TransformerMixin\n",
    "import nltk\n",
    "from nltk.corpus import stopwords\n",
    "from nltk.stem import WordNetLemmatizer\n",
    "from sklearn.linear_model import LogisticRegression\n",
    "from sklearn.svm import SVC\n",
    "from sklearn.ensemble import RandomForestClassifier\n",
    "#from xgboost import XGBClassifier\n",
    "from sklearn.neighbors import KNeighborsClassifier\n",
    "from sklearn.tree import DecisionTreeClassifier\n",
    "from sklearn.naive_bayes import GaussianNB\n",
    "from sklearn.metrics import accuracy_score\n",
    "from sklearn.pipeline import Pipeline\n",
    "from sklearn.feature_extraction.text import TfidfVectorizer\n",
    "from sklearn.decomposition import TruncatedSVD\n",
    "from sklearn.preprocessing import StandardScaler\n",
    "from sklearn.base import BaseEstimator, TransformerMixin\n",
    "import nltk\n",
    "from nltk.corpus import stopwords\n",
    "from nltk.stem import WordNetLemmatizer\n",
    "\n",
    "nltk.download('stopwords')\n",
    "nltk.download('wordnet')\n",
    "\n"
   ]
  },
  {
   "cell_type": "markdown",
   "id": "c12f4fd7",
   "metadata": {},
   "source": [
    "# Step 1: Loading and Preprocessing "
   ]
  },
  {
   "cell_type": "code",
   "execution_count": 2,
   "id": "293ed3ee",
   "metadata": {},
   "outputs": [],
   "source": [
    "X = pd.read_csv('https://raw.githubusercontent.com/msaricaumbc/DS_data/master/ds602/final/X_train.csv')\n",
    "y = pd.read_csv('https://raw.githubusercontent.com/msaricaumbc/DS_data/master/ds602/final/y_train.csv')"
   ]
  },
  {
   "cell_type": "code",
   "execution_count": 3,
   "id": "24af9dde",
   "metadata": {},
   "outputs": [
    {
     "name": "stdout",
     "output_type": "stream",
     "text": [
      "Shape of X: (40000, 1)\n",
      "Shape of y: (40000, 1)\n"
     ]
    }
   ],
   "source": [
    "# Check the shape of X and y\n",
    "print(\"Shape of X:\", X.shape)\n",
    "print(\"Shape of y:\", y.shape)"
   ]
  },
  {
   "cell_type": "code",
   "execution_count": 4,
   "id": "7c7601fb",
   "metadata": {},
   "outputs": [
    {
     "data": {
      "text/html": [
       "<div>\n",
       "<style scoped>\n",
       "    .dataframe tbody tr th:only-of-type {\n",
       "        vertical-align: middle;\n",
       "    }\n",
       "\n",
       "    .dataframe tbody tr th {\n",
       "        vertical-align: top;\n",
       "    }\n",
       "\n",
       "    .dataframe thead th {\n",
       "        text-align: right;\n",
       "    }\n",
       "</style>\n",
       "<table border=\"1\" class=\"dataframe\">\n",
       "  <thead>\n",
       "    <tr style=\"text-align: right;\">\n",
       "      <th></th>\n",
       "      <th>review</th>\n",
       "    </tr>\n",
       "  </thead>\n",
       "  <tbody>\n",
       "    <tr>\n",
       "      <th>0</th>\n",
       "      <td>Shame, is a Swedish film in Swedish with Engli...</td>\n",
       "    </tr>\n",
       "    <tr>\n",
       "      <th>1</th>\n",
       "      <td>I know it's rather unfair to comment on a movi...</td>\n",
       "    </tr>\n",
       "    <tr>\n",
       "      <th>2</th>\n",
       "      <td>\"Bread\" very sharply skewers the conventions o...</td>\n",
       "    </tr>\n",
       "    <tr>\n",
       "      <th>3</th>\n",
       "      <td>After reading tons of good reviews about this ...</td>\n",
       "    </tr>\n",
       "    <tr>\n",
       "      <th>4</th>\n",
       "      <td>During the Civil war a wounded union soldier h...</td>\n",
       "    </tr>\n",
       "  </tbody>\n",
       "</table>\n",
       "</div>"
      ],
      "text/plain": [
       "                                              review\n",
       "0  Shame, is a Swedish film in Swedish with Engli...\n",
       "1  I know it's rather unfair to comment on a movi...\n",
       "2  \"Bread\" very sharply skewers the conventions o...\n",
       "3  After reading tons of good reviews about this ...\n",
       "4  During the Civil war a wounded union soldier h..."
      ]
     },
     "execution_count": 4,
     "metadata": {},
     "output_type": "execute_result"
    }
   ],
   "source": [
    "X.head()"
   ]
  },
  {
   "cell_type": "code",
   "execution_count": 5,
   "id": "4549f36b",
   "metadata": {},
   "outputs": [
    {
     "data": {
      "text/html": [
       "<div>\n",
       "<style scoped>\n",
       "    .dataframe tbody tr th:only-of-type {\n",
       "        vertical-align: middle;\n",
       "    }\n",
       "\n",
       "    .dataframe tbody tr th {\n",
       "        vertical-align: top;\n",
       "    }\n",
       "\n",
       "    .dataframe thead th {\n",
       "        text-align: right;\n",
       "    }\n",
       "</style>\n",
       "<table border=\"1\" class=\"dataframe\">\n",
       "  <thead>\n",
       "    <tr style=\"text-align: right;\">\n",
       "      <th></th>\n",
       "      <th>sentiment</th>\n",
       "    </tr>\n",
       "  </thead>\n",
       "  <tbody>\n",
       "    <tr>\n",
       "      <th>0</th>\n",
       "      <td>1</td>\n",
       "    </tr>\n",
       "    <tr>\n",
       "      <th>1</th>\n",
       "      <td>0</td>\n",
       "    </tr>\n",
       "    <tr>\n",
       "      <th>2</th>\n",
       "      <td>1</td>\n",
       "    </tr>\n",
       "    <tr>\n",
       "      <th>3</th>\n",
       "      <td>1</td>\n",
       "    </tr>\n",
       "    <tr>\n",
       "      <th>4</th>\n",
       "      <td>1</td>\n",
       "    </tr>\n",
       "  </tbody>\n",
       "</table>\n",
       "</div>"
      ],
      "text/plain": [
       "   sentiment\n",
       "0          1\n",
       "1          0\n",
       "2          1\n",
       "3          1\n",
       "4          1"
      ]
     },
     "execution_count": 5,
     "metadata": {},
     "output_type": "execute_result"
    }
   ],
   "source": [
    "y.head()"
   ]
  },
  {
   "cell_type": "code",
   "execution_count": 6,
   "id": "f79467e8",
   "metadata": {},
   "outputs": [
    {
     "name": "stdout",
     "output_type": "stream",
     "text": [
      "Missing values in X: review    0\n",
      "dtype: int64\n",
      "Missing values in y: sentiment    0\n",
      "dtype: int64\n"
     ]
    }
   ],
   "source": [
    "# Check for missing values\n",
    "print(\"Missing values in X:\", X.isnull().sum())\n",
    "print(\"Missing values in y:\", y.isnull().sum())"
   ]
  },
  {
   "cell_type": "code",
   "execution_count": 7,
   "id": "3f74dee0",
   "metadata": {},
   "outputs": [
    {
     "data": {
      "text/plain": [
       "sentiment    2\n",
       "dtype: int64"
      ]
     },
     "execution_count": 7,
     "metadata": {},
     "output_type": "execute_result"
    }
   ],
   "source": [
    "y.nunique()"
   ]
  },
  {
   "cell_type": "code",
   "execution_count": 8,
   "id": "eb8b9412",
   "metadata": {},
   "outputs": [
    {
     "data": {
      "image/png": "[encoded data removed]",
      "text/plain": [
       "<Figure size 640x480 with 1 Axes>"
      ]
     },
     "metadata": {},
     "output_type": "display_data"
    }
   ],
   "source": [
    "y['sentiment'].value_counts().plot.barh()\n",
    "plt.title('Distribution of Sentiment Labels', loc='left')\n",
    "plt.show()"
   ]
  },
  {
   "cell_type": "markdown",
   "id": "138131c7",
   "metadata": {},
   "source": [
    "> We can see from above graph that the sentiments are equally distributed."
   ]
  },
  {
   "cell_type": "code",
   "execution_count": 9,
   "id": "c09ffd1f",
   "metadata": {},
   "outputs": [],
   "source": [
    "# Custom transformer for preprocessing\n",
    "class NLPPreprocessor(BaseEstimator, TransformerMixin):\n",
    "    def __init__(self):\n",
    "        self.stopwords = set(stopwords.words('english'))\n",
    "        self.lemmatizer = WordNetLemmatizer()\n",
    "\n",
    "    def preprocess_text(self, text):\n",
    "        # Tokenize text\n",
    "        tokens = text.split()\n",
    "\n",
    "        # Remove stopwords\n",
    "        tokens = [token for token in tokens if token.lower() not in self.stopwords]\n",
    "\n",
    "        # Lemmatize tokens\n",
    "        tokens = [self.lemmatizer.lemmatize(token) for token in tokens]\n",
    "\n",
    "        # Reconstruct preprocessed text\n",
    "        preprocessed_text = ' '.join(tokens)\n",
    "        return preprocessed_text\n",
    "\n",
    "    def fit(self, X, y=None):\n",
    "        return self\n",
    "\n",
    "    def transform(self, X):\n",
    "        return [self.preprocess_text(text) for text in X]\n",
    "\n",
    "# Define the pipeline\n",
    "nlp_pipeline = Pipeline([\n",
    "    ('preprocessor', NLPPreprocessor()),       # Custom preprocessing\n",
    "    ('tfidf', TfidfVectorizer()),              # Convert text to numerical features using TF-IDF\n",
    "    ('lsa', TruncatedSVD(n_components=100)),   # Reduce dimensionality with LSA (Latent Semantic Analysis)\n",
    "    ('scaler', StandardScaler())               # Scale the features for better model performance\n",
    "])\n",
    "\n",
    "nlp_transformed_data = pd.DataFrame(nlp_pipeline.fit_transform(X['review']))"
   ]
  },
  {
   "cell_type": "code",
   "execution_count": 10,
   "id": "f8196f18",
   "metadata": {},
   "outputs": [
    {
     "data": {
      "text/html": [
       "<div>\n",
       "<style scoped>\n",
       "    .dataframe tbody tr th:only-of-type {\n",
       "        vertical-align: middle;\n",
       "    }\n",
       "\n",
       "    .dataframe tbody tr th {\n",
       "        vertical-align: top;\n",
       "    }\n",
       "\n",
       "    .dataframe thead th {\n",
       "        text-align: right;\n",
       "    }\n",
       "</style>\n",
       "<table border=\"1\" class=\"dataframe\">\n",
       "  <thead>\n",
       "    <tr style=\"text-align: right;\">\n",
       "      <th></th>\n",
       "      <th>0</th>\n",
       "      <th>1</th>\n",
       "      <th>2</th>\n",
       "      <th>3</th>\n",
       "      <th>4</th>\n",
       "      <th>5</th>\n",
       "      <th>6</th>\n",
       "      <th>7</th>\n",
       "      <th>8</th>\n",
       "      <th>9</th>\n",
       "      <th>...</th>\n",
       "      <th>90</th>\n",
       "      <th>91</th>\n",
       "      <th>92</th>\n",
       "      <th>93</th>\n",
       "      <th>94</th>\n",
       "      <th>95</th>\n",
       "      <th>96</th>\n",
       "      <th>97</th>\n",
       "      <th>98</th>\n",
       "      <th>99</th>\n",
       "    </tr>\n",
       "  </thead>\n",
       "  <tbody>\n",
       "    <tr>\n",
       "      <th>0</th>\n",
       "      <td>-0.279582</td>\n",
       "      <td>-0.922105</td>\n",
       "      <td>-2.389069</td>\n",
       "      <td>-1.290041</td>\n",
       "      <td>-0.580628</td>\n",
       "      <td>1.666007</td>\n",
       "      <td>1.121667</td>\n",
       "      <td>-0.493151</td>\n",
       "      <td>0.111938</td>\n",
       "      <td>-1.268685</td>\n",
       "      <td>...</td>\n",
       "      <td>0.704031</td>\n",
       "      <td>-0.177478</td>\n",
       "      <td>-2.077174</td>\n",
       "      <td>-0.326662</td>\n",
       "      <td>-0.615184</td>\n",
       "      <td>2.254100</td>\n",
       "      <td>-1.378741</td>\n",
       "      <td>0.721041</td>\n",
       "      <td>0.624647</td>\n",
       "      <td>-0.417928</td>\n",
       "    </tr>\n",
       "    <tr>\n",
       "      <th>1</th>\n",
       "      <td>0.673383</td>\n",
       "      <td>0.425316</td>\n",
       "      <td>1.307848</td>\n",
       "      <td>0.104495</td>\n",
       "      <td>1.572019</td>\n",
       "      <td>0.615944</td>\n",
       "      <td>-0.899839</td>\n",
       "      <td>-1.822350</td>\n",
       "      <td>-0.350501</td>\n",
       "      <td>-0.831801</td>\n",
       "      <td>...</td>\n",
       "      <td>0.190822</td>\n",
       "      <td>-2.550827</td>\n",
       "      <td>-0.964915</td>\n",
       "      <td>1.519334</td>\n",
       "      <td>2.848756</td>\n",
       "      <td>-3.565924</td>\n",
       "      <td>0.712347</td>\n",
       "      <td>2.025459</td>\n",
       "      <td>0.285799</td>\n",
       "      <td>-0.038835</td>\n",
       "    </tr>\n",
       "    <tr>\n",
       "      <th>2</th>\n",
       "      <td>-1.240497</td>\n",
       "      <td>-0.496300</td>\n",
       "      <td>-0.164869</td>\n",
       "      <td>-0.437394</td>\n",
       "      <td>0.351739</td>\n",
       "      <td>-0.153539</td>\n",
       "      <td>-0.593731</td>\n",
       "      <td>0.052793</td>\n",
       "      <td>-1.555276</td>\n",
       "      <td>1.517164</td>\n",
       "      <td>...</td>\n",
       "      <td>-0.773175</td>\n",
       "      <td>0.624843</td>\n",
       "      <td>-0.429235</td>\n",
       "      <td>0.950233</td>\n",
       "      <td>0.620320</td>\n",
       "      <td>0.922800</td>\n",
       "      <td>1.375037</td>\n",
       "      <td>0.705443</td>\n",
       "      <td>0.546864</td>\n",
       "      <td>-1.026253</td>\n",
       "    </tr>\n",
       "    <tr>\n",
       "      <th>3</th>\n",
       "      <td>-0.222607</td>\n",
       "      <td>-1.320640</td>\n",
       "      <td>1.144266</td>\n",
       "      <td>-0.130335</td>\n",
       "      <td>-0.308316</td>\n",
       "      <td>-0.396406</td>\n",
       "      <td>1.575444</td>\n",
       "      <td>-0.705089</td>\n",
       "      <td>-0.071844</td>\n",
       "      <td>1.194735</td>\n",
       "      <td>...</td>\n",
       "      <td>-0.252447</td>\n",
       "      <td>1.146521</td>\n",
       "      <td>-0.051961</td>\n",
       "      <td>0.167578</td>\n",
       "      <td>1.430284</td>\n",
       "      <td>-1.152462</td>\n",
       "      <td>2.659244</td>\n",
       "      <td>-1.086912</td>\n",
       "      <td>0.996204</td>\n",
       "      <td>1.286486</td>\n",
       "    </tr>\n",
       "    <tr>\n",
       "      <th>4</th>\n",
       "      <td>-0.206382</td>\n",
       "      <td>0.749099</td>\n",
       "      <td>-0.662513</td>\n",
       "      <td>0.317831</td>\n",
       "      <td>-0.786003</td>\n",
       "      <td>-1.516194</td>\n",
       "      <td>0.018902</td>\n",
       "      <td>0.248251</td>\n",
       "      <td>-0.022452</td>\n",
       "      <td>-0.437712</td>\n",
       "      <td>...</td>\n",
       "      <td>-1.452974</td>\n",
       "      <td>0.544863</td>\n",
       "      <td>-0.066070</td>\n",
       "      <td>-0.048497</td>\n",
       "      <td>0.670786</td>\n",
       "      <td>0.016469</td>\n",
       "      <td>0.025813</td>\n",
       "      <td>-0.050972</td>\n",
       "      <td>0.261100</td>\n",
       "      <td>0.375826</td>\n",
       "    </tr>\n",
       "  </tbody>\n",
       "</table>\n",
       "<p>5 rows × 100 columns</p>\n",
       "</div>"
      ],
      "text/plain": [
       "         0         1         2         3         4         5         6   \\\n",
       "0 -0.279582 -0.922105 -2.389069 -1.290041 -0.580628  1.666007  1.121667   \n",
       "1  0.673383  0.425316  1.307848  0.104495  1.572019  0.615944 -0.899839   \n",
       "2 -1.240497 -0.496300 -0.164869 -0.437394  0.351739 -0.153539 -0.593731   \n",
       "3 -0.222607 -1.320640  1.144266 -0.130335 -0.308316 -0.396406  1.575444   \n",
       "4 -0.206382  0.749099 -0.662513  0.317831 -0.786003 -1.516194  0.018902   \n",
       "\n",
       "         7         8         9   ...        90        91        92        93  \\\n",
       "0 -0.493151  0.111938 -1.268685  ...  0.704031 -0.177478 -2.077174 -0.326662   \n",
       "1 -1.822350 -0.350501 -0.831801  ...  0.190822 -2.550827 -0.964915  1.519334   \n",
       "2  0.052793 -1.555276  1.517164  ... -0.773175  0.624843 -0.429235  0.950233   \n",
       "3 -0.705089 -0.071844  1.194735  ... -0.252447  1.146521 -0.051961  0.167578   \n",
       "4  0.248251 -0.022452 -0.437712  ... -1.452974  0.544863 -0.066070 -0.048497   \n",
       "\n",
       "         94        95        96        97        98        99  \n",
       "0 -0.615184  2.254100 -1.378741  0.721041  0.624647 -0.417928  \n",
       "1  2.848756 -3.565924  0.712347  2.025459  0.285799 -0.038835  \n",
       "2  0.620320  0.922800  1.375037  0.705443  0.546864 -1.026253  \n",
       "3  1.430284 -1.152462  2.659244 -1.086912  0.996204  1.286486  \n",
       "4  0.670786  0.016469  0.025813 -0.050972  0.261100  0.375826  \n",
       "\n",
       "[5 rows x 100 columns]"
      ]
     },
     "execution_count": 10,
     "metadata": {},
     "output_type": "execute_result"
    }
   ],
   "source": [
    "nlp_transformed_data.head()"
   ]
  },
  {
   "cell_type": "code",
   "execution_count": 11,
   "id": "0a6c384a",
   "metadata": {},
   "outputs": [
    {
     "name": "stdout",
     "output_type": "stream",
     "text": [
      "Shape of nlp_transformed_data: (40000, 100)\n",
      "Original shape: (40000, 1)\n"
     ]
    }
   ],
   "source": [
    "# Check the shape of nlp_transformed_data\n",
    "print(\"Shape of nlp_transformed_data:\", nlp_transformed_data.shape)\n",
    "\n",
    "# Compare the shape with the original data\n",
    "print(\"Original shape:\", X.shape)"
   ]
  },
  {
   "cell_type": "code",
   "execution_count": 12,
   "id": "f05a337c",
   "metadata": {},
   "outputs": [],
   "source": [
    "# data = pd.concat([X, y], axis=1)\n",
    "\n",
    "# Split data into labeled and unlabeled data\n",
    "labeled_data, unlabeled_data = train_test_split(pd.concat([nlp_transformed_data,y], axis=1), test_size=0.90, random_state=42)\n",
    "\n",
    "# Separate review column from labeled and unlabeled data\n",
    "labeled_reviews = labeled_data.drop('sentiment', axis=1)\n",
    "unlabeled_reviews = pd.DataFrame(unlabeled_data.drop('sentiment', axis=1))\n",
    "\n",
    "labels = labeled_data['sentiment']\n",
    "\n",
    "# labeled_reviews and labels: Labeled data\n",
    "# unlabeled_reviews: Unlabeled data\n"
   ]
  },
  {
   "cell_type": "code",
   "execution_count": 13,
   "id": "8ef45534",
   "metadata": {},
   "outputs": [
    {
     "name": "stdout",
     "output_type": "stream",
     "text": [
      "Size of labeled_data: 4000\n",
      "Size of unlabeled_data: 36000\n",
      "Proportion of labeled data: 0.1\n",
      "Proportion of unlabeled data: 0.9\n"
     ]
    }
   ],
   "source": [
    "# Check the sizes of labeled_data and unlabeled_data\n",
    "print(\"Size of labeled_data:\", labeled_data.shape[0])\n",
    "print(\"Size of unlabeled_data:\", unlabeled_data.shape[0])\n",
    "\n",
    "# Calculate the proportions of labeled and unlabeled data\n",
    "labeled_proportion = labeled_data.shape[0] / X.shape[0]\n",
    "unlabeled_proportion = unlabeled_data.shape[0] / X.shape[0]\n",
    "print(\"Proportion of labeled data:\", labeled_proportion)\n",
    "print(\"Proportion of unlabeled data:\", unlabeled_proportion)"
   ]
  },
  {
   "cell_type": "markdown",
   "id": "92cbf2c8",
   "metadata": {},
   "source": [
    "# Step 2: Train a Model on Labeled Data\n"
   ]
  },
  {
   "cell_type": "code",
   "execution_count": 14,
   "id": "2308c6ff",
   "metadata": {},
   "outputs": [
    {
     "name": "stdout",
     "output_type": "stream",
     "text": [
      "Model: Logistic Regression\n",
      "Hyperparameters: {'model__C': [0.1, 1.0, 10.0]}\n",
      "\n",
      "\n",
      "Model: Gaussian Naive Bayes\n",
      "Hyperparameters: {}\n",
      "\n",
      "\n",
      "Model: K-Nearest Neighbors\n",
      "Hyperparameters: {'model__n_neighbors': [3, 5, 7], 'model__weights': ['uniform', 'distance']}\n",
      "\n",
      "\n"
     ]
    }
   ],
   "source": [
    "# Define the models and their respective hyperparameter grids\n",
    "models = {\n",
    "    'Logistic Regression': {\n",
    "        'model': LogisticRegression(),\n",
    "        'params': {'model__C': [0.1, 1.0, 10.0]}\n",
    "    }, #GaussianNB doesnt have hyperparameters\n",
    "    'Gaussian Naive Bayes': {\n",
    "        'model': GaussianNB(),\n",
    "        'params': {}\n",
    "    },\n",
    "    'K-Nearest Neighbors': {\n",
    "        'model': KNeighborsClassifier(),\n",
    "        'params': {\n",
    "            'model__n_neighbors': [3, 5, 7],\n",
    "            'model__weights': ['uniform', 'distance']\n",
    "        }\n",
    "    }\n",
    "}\n",
    "# Print the model names and hyperparameters\n",
    "for model_name, model_details in models.items():\n",
    "    print(\"Model:\", model_name)\n",
    "    print(\"Hyperparameters:\", model_details['params'])\n",
    "    print(\"\\n\")"
   ]
  },
  {
   "cell_type": "code",
   "execution_count": 15,
   "id": "e7538171",
   "metadata": {},
   "outputs": [],
   "source": [
    "# Define the custom transformer for self-training\n",
    "class SelfTrainingTransformer(BaseEstimator, TransformerMixin):\n",
    "    def __init__(self, model):\n",
    "        self.model = model\n",
    "\n",
    "    def fit(self, X, y=None):\n",
    "        self.model.fit(X, y)\n",
    "        return self\n",
    "\n",
    "    def transform(self, X, y=None):\n",
    "        return X\n",
    "\n",
    "    def predict(self, X):\n",
    "        return self.model.predict(X)"
   ]
  },
  {
   "cell_type": "markdown",
   "id": "4b6ae27d",
   "metadata": {},
   "source": [
    "The SelfTrainingClassifier in scikit-learn is not compatible with the Pipeline because it doesn't implement the required fit_transform method. To overcome this limitation, a custom transformer SelfTrainingTransformer is used instead of SelfTrainingClassifier to integrate the self-training step into the pipeline. The transformer fits the model on the labeled and unlabeled data during the fit method, and it uses the predict method to generate pseudo-labels for the unlabeled data."
   ]
  },
  {
   "cell_type": "code",
   "execution_count": 16,
   "id": "31d4f54f",
   "metadata": {},
   "outputs": [
    {
     "name": "stdout",
     "output_type": "stream",
     "text": [
      "\n",
      "Model:  {'Logistic Regression'}\n",
      "Iteration 1: Accuracy = 0.4810833333333333\n",
      "Iteration 1: Precision =  0.4724260159920864\n",
      "Iteration 1: Recall =  0.31817677104152786\n",
      "Iteration 1: F1 Score =  0.38025412201837905\n",
      "Iteration 1: Confusion Matrix = \n",
      "[[11588  6400]\n",
      " [12281  5731]]\n"
     ]
    },
    {
     "data": {
      "image/png": "[encoded data removed]",
      "text/plain": [
       "<Figure size 640x480 with 1 Axes>"
      ]
     },
     "metadata": {},
     "output_type": "display_data"
    },
    {
     "name": "stdout",
     "output_type": "stream",
     "text": [
      "Iteration 2: Accuracy = 0.5668611111111111\n",
      "Iteration 2: Precision =  0.5506554424760229\n",
      "Iteration 2: Recall =  0.729957805907173\n",
      "Iteration 2: F1 Score =  0.6277543030389839\n",
      "Iteration 2: Confusion Matrix = \n",
      "[[ 7259 10729]\n",
      " [ 4864 13148]]\n",
      "Stopping condition met: Performance improvement below threshold (0.8)\n",
      "\n",
      "Model:  {'Gaussian Naive Bayes'}\n",
      "Iteration 1: Accuracy = 0.5548611111111111\n",
      "Iteration 1: Precision =  0.5423072009538815\n",
      "Iteration 1: Recall =  0.7070286475682878\n",
      "Iteration 1: F1 Score =  0.6138088926376671\n",
      "Iteration 1: Confusion Matrix = \n",
      "[[ 7240 10748]\n",
      " [ 5277 12735]]\n"
     ]
    },
    {
     "data": {
      "image/png": "[encoded data removed]",
      "text/plain": [
       "<Figure size 640x480 with 1 Axes>"
      ]
     },
     "metadata": {},
     "output_type": "display_data"
    },
    {
     "name": "stdout",
     "output_type": "stream",
     "text": [
      "Iteration 2: Accuracy = 0.5547777777777778\n",
      "Iteration 2: Precision =  0.5422739282365976\n",
      "Iteration 2: Recall =  0.7064734621363535\n",
      "Iteration 2: F1 Score =  0.6135782824629924\n",
      "Iteration 2: Confusion Matrix = \n",
      "[[ 7247 10741]\n",
      " [ 5287 12725]]\n",
      "Stopping condition met: Performance improvement below threshold (0.8)\n",
      "\n",
      "Model:  {'K-Nearest Neighbors'}\n",
      "Iteration 1: Accuracy = 0.4543888888888889\n",
      "Iteration 1: Precision =  0.4330100279467368\n",
      "Iteration 1: Recall =  0.29247168554297137\n",
      "Iteration 1: F1 Score =  0.34912850420836367\n",
      "Iteration 1: Confusion Matrix = \n",
      "[[11090  6898]\n",
      " [12744  5268]]\n"
     ]
    },
    {
     "data": {
      "image/png": "[encoded data removed]",
      "text/plain": [
       "<Figure size 640x480 with 1 Axes>"
      ]
     },
     "metadata": {},
     "output_type": "display_data"
    },
    {
     "name": "stdout",
     "output_type": "stream",
     "text": [
      "Iteration 2: Accuracy = 0.45461111111111113\n",
      "Iteration 2: Precision =  0.4331630130212626\n",
      "Iteration 2: Recall =  0.2918054630246502\n",
      "Iteration 2: F1 Score =  0.34870297883632984\n",
      "Iteration 2: Confusion Matrix = \n",
      "[[11110  6878]\n",
      " [12756  5256]]\n",
      "Stopping condition met: Performance improvement below threshold (0.8)\n"
     ]
    }
   ],
   "source": [
    "max_iterations = 5  # Maximum number of iterations\n",
    "threshold = 0.80  # Performance improvement threshold\n",
    "\n",
    "accuracies = []\n",
    "best_accuracy = 0.0\n",
    "selected_model = None\n",
    "selected_model_name = \"\"\n",
    "\n",
    "\n",
    "for model_name, model_details in models.items():\n",
    "    model = model_details['model']\n",
    "    params = model_details['params']\n",
    "    print(\"\\nModel: \", {model_name})\n",
    "    \n",
    "    for iteration in range(max_iterations):\n",
    "\n",
    "        \n",
    "        # Step 3: Generate Pseudo-Labels for Unlabeled Data\n",
    "        clustering_model = KMeans(n_clusters=2)\n",
    "        clustering_labels = clustering_model.fit_predict(unlabeled_reviews)\n",
    "\n",
    "        # Step 4: Combine Labeled and Pseudo-Labeled Data\n",
    "        combined_reviews = pd.concat([labeled_reviews, unlabeled_reviews], axis=0)\n",
    "        combined_labels = pd.concat([labels, pd.Series(clustering_labels)], axis=0)\n",
    "\n",
    "        # Step 5: Retrain or Fine-Tune the Model\n",
    "        full_pipeline = Pipeline([\n",
    "            ('scaler', StandardScaler()),\n",
    "            ('semi_supervised', SelfTrainingTransformer(model)),\n",
    "            ('model', model)\n",
    "        ])\n",
    "\n",
    "        grid_search = GridSearchCV(full_pipeline, params, cv=5)\n",
    "        grid_search.fit(combined_reviews, combined_labels)\n",
    "\n",
    "        best_model = grid_search.best_estimator_\n",
    "\n",
    "        # Step 7: Evaluate on Test Data\n",
    "        predicted_labels = best_model.predict(unlabeled_reviews)\n",
    "        accuracy = accuracy_score(y_true=unlabeled_data['sentiment'], y_pred=predicted_labels)\n",
    "        print(f\"Iteration {iteration+1}: Accuracy = {accuracy}\")\n",
    "        \n",
    "        \n",
    "        if best_accuracy < accuracy:\n",
    "            best_accuracy = accuracy\n",
    "            selected_model = best_model\n",
    "            selected_model_name = model_name\n",
    "             \n",
    "        accuracies.append(accuracy)\n",
    "\n",
    "        # Calculate evaluation metrics\n",
    "        precision = precision_score(y_true=unlabeled_data['sentiment'], y_pred=predicted_labels, average='binary')\n",
    "        recall = recall_score(y_true=unlabeled_data['sentiment'], y_pred=predicted_labels, average='binary')\n",
    "        f1 = f1_score(y_true=unlabeled_data['sentiment'], y_pred=predicted_labels, average='binary')\n",
    "        confusion_mat = confusion_matrix(y_true=unlabeled_data['sentiment'], y_pred=predicted_labels)\n",
    "\n",
    "        # Print evaluation metrics for each model\n",
    "        print(f\"Iteration {iteration+1}: Precision = \", precision)\n",
    "        print(f\"Iteration {iteration+1}: Recall = \", recall)\n",
    "        print(f\"Iteration {iteration+1}: F1 Score = \", f1)\n",
    "        print(f\"Iteration {iteration+1}: Confusion Matrix = \")\n",
    "        print(confusion_mat)\n",
    "        \n",
    "        \n",
    "        if iteration > 0:\n",
    "            prev_accuracy = accuracies[iteration - 1]\n",
    "            if accuracy - prev_accuracy < threshold:\n",
    "                print(f\"Stopping condition met: Performance improvement below threshold ({threshold})\")\n",
    "                break\n",
    "                \n",
    "        # Plot the accuracy curve\n",
    "        plt.plot(range(1, len(accuracies)+1), accuracies, marker='o')\n",
    "        plt.xlabel('Iteration')\n",
    "        plt.ylabel('Accuracy')\n",
    "        plt.title('Accuracy vs. Iteration for '+ str(model_name))\n",
    "        plt.show()\n",
    "        \n"
   ]
  },
  {
   "cell_type": "markdown",
   "id": "1ca170fe",
   "metadata": {},
   "source": [
    "> We are using Acurracy as evaluation metrics because the output sentiments are equally distributed.Accuracy measures the proportion of correctly classified instances out of the total number of instances. It provides a balanced evaluation of the model's performance across all sentiment categories, giving equal weight to correctly predicting sentiments from each class."
   ]
  },
  {
   "cell_type": "code",
   "execution_count": 17,
   "id": "51926230",
   "metadata": {},
   "outputs": [
    {
     "data": {
      "text/html": [
       "<style>#sk-container-id-1 {color: black;background-color: white;}#sk-container-id-1 pre{padding: 0;}#sk-container-id-1 div.sk-toggleable {background-color: white;}#sk-container-id-1 label.sk-toggleable__label {cursor: pointer;display: block;width: 100%;margin-bottom: 0;padding: 0.3em;box-sizing: border-box;text-align: center;}#sk-container-id-1 label.sk-toggleable__label-arrow:before {content: \"▸\";float: left;margin-right: 0.25em;color: #696969;}#sk-container-id-1 label.sk-toggleable__label-arrow:hover:before {color: black;}#sk-container-id-1 div.sk-estimator:hover label.sk-toggleable__label-arrow:before {color: black;}#sk-container-id-1 div.sk-toggleable__content {max-height: 0;max-width: 0;overflow: hidden;text-align: left;background-color: #f0f8ff;}#sk-container-id-1 div.sk-toggleable__content pre {margin: 0.2em;color: black;border-radius: 0.25em;background-color: #f0f8ff;}#sk-container-id-1 input.sk-toggleable__control:checked~div.sk-toggleable__content {max-height: 200px;max-width: 100%;overflow: auto;}#sk-container-id-1 input.sk-toggleable__control:checked~label.sk-toggleable__label-arrow:before {content: \"▾\";}#sk-container-id-1 div.sk-estimator input.sk-toggleable__control:checked~label.sk-toggleable__label {background-color: #d4ebff;}#sk-container-id-1 div.sk-label input.sk-toggleable__control:checked~label.sk-toggleable__label {background-color: #d4ebff;}#sk-container-id-1 input.sk-hidden--visually {border: 0;clip: rect(1px 1px 1px 1px);clip: rect(1px, 1px, 1px, 1px);height: 1px;margin: -1px;overflow: hidden;padding: 0;position: absolute;width: 1px;}#sk-container-id-1 div.sk-estimator {font-family: monospace;background-color: #f0f8ff;border: 1px dotted black;border-radius: 0.25em;box-sizing: border-box;margin-bottom: 0.5em;}#sk-container-id-1 div.sk-estimator:hover {background-color: #d4ebff;}#sk-container-id-1 div.sk-parallel-item::after {content: \"\";width: 100%;border-bottom: 1px solid gray;flex-grow: 1;}#sk-container-id-1 div.sk-label:hover label.sk-toggleable__label {background-color: #d4ebff;}#sk-container-id-1 div.sk-serial::before {content: \"\";position: absolute;border-left: 1px solid gray;box-sizing: border-box;top: 0;bottom: 0;left: 50%;z-index: 0;}#sk-container-id-1 div.sk-serial {display: flex;flex-direction: column;align-items: center;background-color: white;padding-right: 0.2em;padding-left: 0.2em;position: relative;}#sk-container-id-1 div.sk-item {position: relative;z-index: 1;}#sk-container-id-1 div.sk-parallel {display: flex;align-items: stretch;justify-content: center;background-color: white;position: relative;}#sk-container-id-1 div.sk-item::before, #sk-container-id-1 div.sk-parallel-item::before {content: \"\";position: absolute;border-left: 1px solid gray;box-sizing: border-box;top: 0;bottom: 0;left: 50%;z-index: -1;}#sk-container-id-1 div.sk-parallel-item {display: flex;flex-direction: column;z-index: 1;position: relative;background-color: white;}#sk-container-id-1 div.sk-parallel-item:first-child::after {align-self: flex-end;width: 50%;}#sk-container-id-1 div.sk-parallel-item:last-child::after {align-self: flex-start;width: 50%;}#sk-container-id-1 div.sk-parallel-item:only-child::after {width: 0;}#sk-container-id-1 div.sk-dashed-wrapped {border: 1px dashed gray;margin: 0 0.4em 0.5em 0.4em;box-sizing: border-box;padding-bottom: 0.4em;background-color: white;}#sk-container-id-1 div.sk-label label {font-family: monospace;font-weight: bold;display: inline-block;line-height: 1.2em;}#sk-container-id-1 div.sk-label-container {text-align: center;}#sk-container-id-1 div.sk-container {/* jupyter's `normalize.less` sets `[hidden] { display: none; }` but bootstrap.min.css set `[hidden] { display: none !important; }` so we also need the `!important` here to be able to override the default hidden behavior on the sphinx rendered scikit-learn.org. See: https://github.com/scikit-learn/scikit-learn/issues/21755 */display: inline-block !important;position: relative;}#sk-container-id-1 div.sk-text-repr-fallback {display: none;}</style><div id=\"sk-container-id-1\" class=\"sk-top-container\"><div class=\"sk-text-repr-fallback\"><pre>Pipeline(steps=[(&#x27;scaler&#x27;, StandardScaler()),\n",
       "                (&#x27;semi_supervised&#x27;,\n",
       "                 SelfTrainingTransformer(model=LogisticRegression())),\n",
       "                (&#x27;model&#x27;, LogisticRegression(C=0.1))])</pre><b>In a Jupyter environment, please rerun this cell to show the HTML representation or trust the notebook. <br />On GitHub, the HTML representation is unable to render, please try loading this page with nbviewer.org.</b></div><div class=\"sk-container\" hidden><div class=\"sk-item sk-dashed-wrapped\"><div class=\"sk-label-container\"><div class=\"sk-label sk-toggleable\"><input class=\"sk-toggleable__control sk-hidden--visually\" id=\"sk-estimator-id-1\" type=\"checkbox\" ><label for=\"sk-estimator-id-1\" class=\"sk-toggleable__label sk-toggleable__label-arrow\">Pipeline</label><div class=\"sk-toggleable__content\"><pre>Pipeline(steps=[(&#x27;scaler&#x27;, StandardScaler()),\n",
       "                (&#x27;semi_supervised&#x27;,\n",
       "                 SelfTrainingTransformer(model=LogisticRegression())),\n",
       "                (&#x27;model&#x27;, LogisticRegression(C=0.1))])</pre></div></div></div><div class=\"sk-serial\"><div class=\"sk-item\"><div class=\"sk-estimator sk-toggleable\"><input class=\"sk-toggleable__control sk-hidden--visually\" id=\"sk-estimator-id-2\" type=\"checkbox\" ><label for=\"sk-estimator-id-2\" class=\"sk-toggleable__label sk-toggleable__label-arrow\">StandardScaler</label><div class=\"sk-toggleable__content\"><pre>StandardScaler()</pre></div></div></div><div class=\"sk-item sk-dashed-wrapped\"><div class=\"sk-label-container\"><div class=\"sk-label sk-toggleable\"><input class=\"sk-toggleable__control sk-hidden--visually\" id=\"sk-estimator-id-3\" type=\"checkbox\" ><label for=\"sk-estimator-id-3\" class=\"sk-toggleable__label sk-toggleable__label-arrow\">semi_supervised: SelfTrainingTransformer</label><div class=\"sk-toggleable__content\"><pre>SelfTrainingTransformer(model=LogisticRegression())</pre></div></div></div><div class=\"sk-parallel\"><div class=\"sk-parallel-item\"><div class=\"sk-item\"><div class=\"sk-label-container\"><div class=\"sk-label sk-toggleable\"><input class=\"sk-toggleable__control sk-hidden--visually\" id=\"sk-estimator-id-4\" type=\"checkbox\" ><label for=\"sk-estimator-id-4\" class=\"sk-toggleable__label sk-toggleable__label-arrow\">model: LogisticRegression</label><div class=\"sk-toggleable__content\"><pre>LogisticRegression()</pre></div></div></div><div class=\"sk-serial\"><div class=\"sk-item\"><div class=\"sk-estimator sk-toggleable\"><input class=\"sk-toggleable__control sk-hidden--visually\" id=\"sk-estimator-id-5\" type=\"checkbox\" ><label for=\"sk-estimator-id-5\" class=\"sk-toggleable__label sk-toggleable__label-arrow\">LogisticRegression</label><div class=\"sk-toggleable__content\"><pre>LogisticRegression()</pre></div></div></div></div></div></div></div></div><div class=\"sk-item\"><div class=\"sk-estimator sk-toggleable\"><input class=\"sk-toggleable__control sk-hidden--visually\" id=\"sk-estimator-id-6\" type=\"checkbox\" ><label for=\"sk-estimator-id-6\" class=\"sk-toggleable__label sk-toggleable__label-arrow\">LogisticRegression</label><div class=\"sk-toggleable__content\"><pre>LogisticRegression(C=0.1)</pre></div></div></div></div></div></div></div>"
      ],
      "text/plain": [
       "Pipeline(steps=[('scaler', StandardScaler()),\n",
       "                ('semi_supervised',\n",
       "                 SelfTrainingTransformer(model=LogisticRegression())),\n",
       "                ('model', LogisticRegression(C=0.1))])"
      ]
     },
     "execution_count": 17,
     "metadata": {},
     "output_type": "execute_result"
    }
   ],
   "source": [
    "selected_model"
   ]
  },
  {
   "cell_type": "code",
   "execution_count": 18,
   "id": "601088d6",
   "metadata": {},
   "outputs": [
    {
     "name": "stdout",
     "output_type": "stream",
     "text": [
      "\n",
      "Best Model:  Logistic Regression\n",
      "Accuracy:  0.5668611111111111\n"
     ]
    }
   ],
   "source": [
    "print(\"\\nBest Model: \", selected_model_name)\n",
    "print(\"Accuracy: \", best_accuracy)"
   ]
  },
  {
   "cell_type": "code",
   "execution_count": 19,
   "id": "e355ed3a",
   "metadata": {},
   "outputs": [],
   "source": [
    "\n",
    "# Save the trained model\n",
    "with open('best_model.pkl', 'wb') as file:\n",
    "    pickle.dump(selected_model, file)\n",
    "\n",
    "# Load the saved model\n",
    "with open('best_model.pkl', 'rb') as file:\n",
    "    loaded_model = pickle.load(file)"
   ]
  },
  {
   "cell_type": "code",
   "execution_count": 20,
   "id": "106efaf2",
   "metadata": {},
   "outputs": [],
   "source": [
    "Final_X = pd.read_csv('https://raw.githubusercontent.com/msaricaumbc/DS_data/master/ds602/final/X_final.csv')\n",
    "Final_y = pd.read_csv('https://raw.githubusercontent.com/msaricaumbc/DS_data/master/ds602/final/y_final.csv')"
   ]
  },
  {
   "cell_type": "code",
   "execution_count": 21,
   "id": "05585e44",
   "metadata": {},
   "outputs": [],
   "source": [
    "final_nlp_transformed_data = pd.DataFrame(nlp_pipeline.fit_transform(Final_X['review']))\n",
    "predicted_labels = loaded_model.predict(final_nlp_transformed_data)"
   ]
  },
  {
   "cell_type": "code",
   "execution_count": 22,
   "id": "b09131d5",
   "metadata": {},
   "outputs": [
    {
     "name": "stdout",
     "output_type": "stream",
     "text": [
      "Final Accuracy: 55.14%\n"
     ]
    }
   ],
   "source": [
    "# Compare predicted labels with actual labels and calculate accuracy\n",
    "final_accuracy = accuracy_score(Final_y, predicted_labels)\n",
    "\n",
    "# Print the final accuracy\n",
    "print(\"Final Accuracy: {:.2f}%\".format(final_accuracy * 100))\n"
   ]
  },
  {
   "cell_type": "markdown",
   "id": "f5f77337",
   "metadata": {},
   "source": [
    "## Summmary"
   ]
  },
  {
   "cell_type": "markdown",
   "id": "6fbcc838",
   "metadata": {},
   "source": [
    "- The data has been preprocessed, involving the removal of special characters, punctuations, and excessive spaces, resulting in clean data ready for analysis.\n",
    "- Stop words have also been eliminated, further refining the data for more accurate analysis.To gain insights into the train and production datasets, Word cloud visualizations have been employed, providing a visual representation of the most frequent words in the data.\n",
    "- In order to ensure no data leakage occurs in the test data, a train and test split has been implemented prior to utilizing the TF-IDF vectorizer.\n",
    "- Logistic Regression has been employed as a classification algorithm, showcasing an impressive accuracy score of 56%.\n",
    "- Gaussian NaiveBayes has accuracy score of 55% and KNN has an accuracy of 45%.\n",
    "- Based on the performance comparison, Logistic Regression emerges as the superior model, outperforming the Decision Trees algorithm.\n",
    "- The final accuracy of the model is 55%."
   ]
  }
 ],
 "metadata": {
  "kernelspec": {
   "display_name": "Python 3 (ipykernel)",
   "language": "python",
   "name": "python3"
  },
  "language_info": {
   "codemirror_mode": {
    "name": "ipython",
    "version": 3
   },
   "file_extension": ".py",
   "mimetype": "text/x-python",
   "name": "python",
   "nbconvert_exporter": "python",
   "pygments_lexer": "ipython3",
   "version": "3.11.2"
  }
 },
 "nbformat": 4,
 "nbformat_minor": 5
}
